{
 "cells": [
  {
   "cell_type": "markdown",
   "metadata": {},
   "source": [
    "# Read PDBBInd files (moleculesm, proteins , pockets)"
   ]
  },
  {
   "cell_type": "code",
   "execution_count": 1,
   "metadata": {},
   "outputs": [],
   "source": [
    "def read_pdb_files(_file):\n",
    "    contents = []\n",
    "    with open(_file, 'r') as f:\n",
    "        for line in f.readlines():\n",
    "            if line[0] != \"#\":\n",
    "                splitted_elements = line.split()\n",
    "                contents.append(splitted_elements)\n",
    "                #contents.append(splitted_elements[:5] + [' '.join(splitted_elements[5:])])\n",
    "    return contents"
   ]
  },
  {
   "cell_type": "code",
   "execution_count": 2,
   "metadata": {},
   "outputs": [],
   "source": [
    "import pandas as pd\n",
    "from pathlib import Path\n",
    "from rdkit import Chem\n",
    "from rdkit.Chem import PandasTools\n",
    "import os\n",
    "\n",
    "\n",
    "data_path = Path('C:/Experiments/HQ-DTA/data/PDBBind_2020')\n",
    "\n",
    "pdb_path_i = data_path /  'refined'\n",
    "pdb_path_g = data_path /  'general'\n",
    "pdb_path_c = data_path /  'CASF-2016/coreset'\n",
    "\n",
    "index_label_file_i =  data_path  /  'refined/INDEX_refined_data.2020'\n",
    "index_name_file_i = data_path  /  'refined/INDEX_refined_name.2020'\n",
    "\n",
    "index_label_file_g =  data_path  /  'general/INDEX_general_PL_data.2020'\n",
    "index_name_file_g = data_path  /  'general/INDEX_general_PL_name.2020'\n",
    "\n",
    "index_label_file_c =  data_path  /  'CASF-2016/coreset/INDEX_core_data.txt'\n",
    "index_name_file_c = data_path  /  'CASF-2016/coreset/????'"
   ]
  },
  {
   "cell_type": "code",
   "execution_count": null,
   "metadata": {},
   "outputs": [],
   "source": [
    "############### refined \n",
    "\n",
    "contents = read_pdb_files(index_label_file_i)\n",
    "#           INDEX_refined_data\n",
    "#df = pd.DataFrame(contents)\n",
    "#e.t.c 2r58  2.00  2007   2.00  Kd=10mM       // 2r58.pdf (MLY)\n",
    "df_i = pd.DataFrame(contents, columns=(\n",
    "                'PDB_code', 'resolution', 'release_year',\n",
    "                '-logKd/Ki', 'Kd/Ki', 'for_delete', 'reference', 'ligand_name')) \n",
    "del df_i['for_delete']\n",
    "#print(df_i.head)\n",
    "\n",
    "pdbs = df_i['PDB_code'].tolist()\n",
    "    \n",
    "df_i.loc[:, 'ligand_files_sdf'] = [os.path.join(pdb_path_i, pdb, '{}_ligand.sdf'.format(pdb)) for pdb in pdbs]\n",
    "df_i.loc[:, 'ligand_files_mol2'] = [os.path.join(pdb_path_i, pdb, '{}_ligand.mol2'.format(pdb)) for pdb in pdbs]\n",
    "df_i.loc[:, 'protein_files'] = [os.path.join(pdb_path_i, pdb, '{}_protein.pdb'.format(pdb)) for pdb in pdbs]\n",
    "df_i.loc[:, 'pocket_files'] = [os.path.join(pdb_path_i, pdb, '{}_pocket.pdb'.format(pdb)) for pdb in pdbs]"
   ]
  },
  {
   "cell_type": "code",
   "execution_count": null,
   "metadata": {},
   "outputs": [],
   "source": [
    "df_i.head"
   ]
  },
  {
   "cell_type": "code",
   "execution_count": null,
   "metadata": {},
   "outputs": [],
   "source": [
    "############### GENERAL \n",
    "contents = read_pdb_files(index_label_file_g)\n",
    "#           INDEX_refined_data\n",
    "#df = pd.DataFrame(contents)\n",
    "#e.t.c 2r58  2.00  2007   2.00  Kd=10mM       // 2r58.pdf (MLY)\n",
    "df_g = pd.DataFrame(contents, columns=(\n",
    "                'PDB_code', 'resolution', 'release_year',\n",
    "                '-logKd/Ki', 'Kd/Ki', 'for_delete', 'reference', 'ligand_name', 'for_delete2')) \n",
    "del df_g['for_delete']\n",
    "del df_g['for_delete2']\n",
    "#print(df_i.head)\n",
    "\n",
    "pdbs = df_g['PDB_code'].tolist()\n",
    "    \n",
    "df_g.loc[:, 'ligand_files_sdf'] = [os.path.join(pdb_path_g, pdb, '{}_ligand.sdf'.format(pdb)) for pdb in pdbs]\n",
    "df_g.loc[:, 'ligand_files_mol2'] = [os.path.join(pdb_path_g, pdb, '{}_ligand.mol2'.format(pdb)) for pdb in pdbs]\n",
    "df_g.loc[:, 'protein_files'] = [os.path.join(pdb_path_g, pdb, '{}_protein.pdb'.format(pdb)) for pdb in pdbs]\n",
    "df_g.loc[:, 'pocket_files'] = [os.path.join(pdb_path_g, pdb, '{}_pocket.pdb'.format(pdb)) for pdb in pdbs]\n"
   ]
  },
  {
   "cell_type": "code",
   "execution_count": null,
   "metadata": {},
   "outputs": [],
   "source": [
    "df_g.shape"
   ]
  },
  {
   "cell_type": "code",
   "execution_count": 41,
   "metadata": {},
   "outputs": [],
   "source": [
    "############### CORE  \n",
    "#elegxw an yparxoyn eggrafes toy core mesa sto refined gia na tis afairesw\n",
    "#sto general den yparxoyn eggrafew toy refined\n",
    "\n",
    "\n",
    "contents = read_pdb_files(index_label_file_c)\n",
    "\n",
    "#code   resl     year    logKa    Ka           target\n",
    "df_c = pd.DataFrame(contents, columns=(\n",
    "                'PDB_code', 'resolution', 'release_year',\n",
    "                '-logKd/Ki', 'Kd/Ki',  'target')) \n",
    "\n",
    "pdbs = df_c['PDB_code'].tolist()\n",
    "\n",
    "df_c.loc[:, 'ligand_files_sdf'] = [os.path.join(pdb_path_i, pdb, '{}_ligand.sdf'.format(pdb)) for pdb in pdbs]\n",
    "df_c.loc[:, 'ligand_files_mol2'] = [os.path.join(pdb_path_i, pdb, '{}_ligand.mol2'.format(pdb)) for pdb in pdbs]\n",
    "df_c.loc[:, 'protein_files'] = [os.path.join(pdb_path_i, pdb, '{}_protein.pdb'.format(pdb)) for pdb in pdbs]\n",
    "df_c.loc[:, 'pocket_files'] = [os.path.join(pdb_path_i, pdb, '{}_pocket.pdb'.format(pdb)) for pdb in pdbs]"
   ]
  },
  {
   "cell_type": "code",
   "execution_count": 42,
   "metadata": {},
   "outputs": [
    {
     "name": "stdout",
     "output_type": "stream",
     "text": [
      "(285, 10)\n"
     ]
    }
   ],
   "source": [
    "print(df_c.shape)"
   ]
  },
  {
   "cell_type": "code",
   "execution_count": null,
   "metadata": {},
   "outputs": [],
   "source": [
    "#delete general common with refined\n",
    "#common = df_g.merge(df_i, on='PDB_code')\n",
    "df_g = df_g[~df_g['PDB_code'].isin(df_i['PDB_code'])]"
   ]
  },
  {
   "cell_type": "code",
   "execution_count": null,
   "metadata": {},
   "outputs": [],
   "source": [
    "df_g.shape"
   ]
  },
  {
   "cell_type": "code",
   "execution_count": null,
   "metadata": {},
   "outputs": [],
   "source": [
    "df_g.head()\n",
    "df_g.reset_index(inplace=True, drop=True)"
   ]
  },
  {
   "cell_type": "code",
   "execution_count": null,
   "metadata": {},
   "outputs": [],
   "source": [
    "#delete refined common with core\n",
    "#common = df_i.merge(df_c, on='PDB_code')\n",
    "df_i = df_i[~df_i['PDB_code'].isin(df_c['PDB_code'])]"
   ]
  },
  {
   "cell_type": "code",
   "execution_count": null,
   "metadata": {},
   "outputs": [],
   "source": [
    "df_i.head()\n",
    "df_i.reset_index(inplace=True, drop=True)\n",
    "#df_i.reset_index(drop=True) #den isxyei telika"
   ]
  },
  {
   "cell_type": "code",
   "execution_count": 5,
   "metadata": {},
   "outputs": [],
   "source": [
    "def get_smiles(df): \n",
    "    err_mols2=[]\n",
    "    for i in range(len(df)):\n",
    "        mol2_file = df.loc[i, 'ligand_files_mol2']\n",
    "        mol2_file = mol2_file.replace('\\\\', '/')\n",
    "        try:\n",
    "            m = Chem.rdmolfiles.MolFromMol2File(mol2_file)\n",
    "            df.loc[i, 'smi_isomeric']  = Chem.MolToSmiles(m)\n",
    "            df.loc[i, 'smi_canonical'] = Chem.MolToSmiles(m, isomericSmiles=False)   \n",
    "        except:\n",
    "            #print(mol2_file, '\\n')   \n",
    "            err_mols2.append(df.loc[i, 'PDB_code'])\n",
    "            pass \n",
    "\n",
    "    print('errors ', len(err_mols2), err_mols2)"
   ]
  },
  {
   "cell_type": "code",
   "execution_count": null,
   "metadata": {},
   "outputs": [],
   "source": [
    "get_smiles(df_g)"
   ]
  },
  {
   "cell_type": "code",
   "execution_count": null,
   "metadata": {},
   "outputs": [],
   "source": [
    "df_g.head()"
   ]
  },
  {
   "cell_type": "code",
   "execution_count": null,
   "metadata": {},
   "outputs": [],
   "source": [
    "print(df_g.shape)"
   ]
  },
  {
   "cell_type": "code",
   "execution_count": 10,
   "metadata": {},
   "outputs": [],
   "source": [
    "def delete_null(df):\n",
    "    # rows with NaNs values\n",
    "    nans = df[df.isnull().any(axis=1)]\n",
    "    print(nans.shape)\n",
    "    df = df[df.smi_canonical.notnull()]\n",
    "    df.reset_index(inplace=True, drop=True)\n",
    "    return df"
   ]
  },
  {
   "cell_type": "code",
   "execution_count": null,
   "metadata": {},
   "outputs": [],
   "source": [
    "df_g = delete_null(df_g)"
   ]
  },
  {
   "cell_type": "code",
   "execution_count": null,
   "metadata": {},
   "outputs": [],
   "source": [
    "df_g.shape"
   ]
  },
  {
   "cell_type": "code",
   "execution_count": null,
   "metadata": {},
   "outputs": [],
   "source": [
    "get_smiles(df_c)\n",
    "print(df_c.shape)"
   ]
  },
  {
   "cell_type": "code",
   "execution_count": null,
   "metadata": {},
   "outputs": [],
   "source": [
    "df_c = delete_null(df_c)"
   ]
  },
  {
   "cell_type": "markdown",
   "metadata": {},
   "source": [
    "# read sequence and uniprot from sites"
   ]
  },
  {
   "cell_type": "code",
   "execution_count": null,
   "metadata": {},
   "outputs": [],
   "source": [
    "#read sequence from https://www.ebi.ac.uk/pdbe\n",
    "import requests\n",
    "\n",
    "err_prots=[]\n",
    "for i in range(len(df_i)):\n",
    "    code = df_i.loc[i, 'PDB_code']\n",
    "    try:\n",
    "        data = requests.get(f'https://www.ebi.ac.uk/pdbe/api/pdb/entry/molecules/{code}').json()[code.lower()]\n",
    "        df_i.loc[i, 'molecule_type'] = data[0]['molecule_type']\n",
    "        df_i.loc[i, 'sequence']      = data[0]['sequence']    \n",
    "    except: \n",
    "        err_prots.append(df_i.loc[i, 'PDB_code'])\n",
    "        pass \n",
    "\n",
    "print('errors ', err_prots)\n",
    "\n",
    "\n",
    "\n",
    "#code = '1f4x'\n",
    "#data = requests.get(f'https://www.ebi.ac.uk/pdbe/api/pdb/entry/molecules/{code}').json()[code.lower()]\n",
    "#print(data)\n",
    "#print(data[0]['molecule_type'])\n",
    "#print(data[0]['sequence'])\n",
    "\n",
    "#print('****')\n",
    "\n",
    "#data_2 = requests.get(f'https://www.ebi.ac.uk/pdbe/api//mappings/uniprot/{code}?pretty=true').json()[code.lower()]\n",
    "#print(data_2)"
   ]
  },
  {
   "cell_type": "code",
   "execution_count": null,
   "metadata": {},
   "outputs": [],
   "source": [
    "df_i.to_csv(\"C:/Experiments/HQ-DTA/data/refined_data_2020.csv\", sep ='\\t')"
   ]
  },
  {
   "cell_type": "code",
   "execution_count": null,
   "metadata": {
    "scrolled": true
   },
   "outputs": [],
   "source": [
    "import requests\n",
    "\n",
    "err_prots_2=[]\n",
    "sep=',' \n",
    "for i in range(len(df_i)):\n",
    "    code = df_i.loc[i, 'PDB_code']\n",
    "    try:\n",
    "        data = requests.get(f'https://www.ebi.ac.uk/pdbe/api//mappings/uniprot/{code}?pretty=true').json()[code.lower()]\n",
    "        df_i.loc[i, 'Uniprot'] = sep.join(list(data['UniProt'].keys()))\n",
    "    except: \n",
    "        err_prots_2.append(df_i.loc[i, 'PDB_code'])\n",
    "        pass \n",
    "\n",
    "print('errors ', err_prots_2)"
   ]
  },
  {
   "cell_type": "code",
   "execution_count": null,
   "metadata": {},
   "outputs": [],
   "source": [
    "# yparxoyn kai sequence oxi me A alla R, S e.t.c Den briskei ta sequence gia 312 proteines\n",
    "from Bio import SeqIO\n",
    "PDB_file_path = 'C:/Experiments/HQ-DTA/data/PDBBind_2020/PDBbind_v2020_refined/refined-set/1a1e/1a1e_protein.pdb' \n",
    "query_chain_id = 'A'\n",
    "\n",
    "chain = {record.id: record.seq for record in SeqIO.parse(PDB_file_path, 'pdb-seqres')}\n",
    "print(chain)\n",
    "query_chain = chain[query_chain_id]\n",
    "print(query_chain)"
   ]
  },
  {
   "cell_type": "code",
   "execution_count": null,
   "metadata": {},
   "outputs": [],
   "source": [
    "# yparxoyn kai sequence oxi me A alla R, S e.t.c Den briskei ta sequence gia 312 proteines\n",
    "from Bio import SeqIO\n",
    "PDB_file_path = 'C:/Experiments/HQ-DTA/data/PDBBind_2020/PDBbind_v2020_refined/refined-set/1a1e/1a1e_protein.pdb' \n",
    "\n",
    "records = list(SeqIO.parse(PDB_file_path, 'pdb-seqres'))\n",
    "\n",
    "print(records[0].id)\n",
    "\n",
    "print(records[0].seq)\n",
    "      \n",
    "\n"
   ]
  },
  {
   "cell_type": "code",
   "execution_count": null,
   "metadata": {},
   "outputs": [],
   "source": [
    "import requests\n",
    "code = '5ulp'\n",
    "\n",
    "data_2 = requests.get(f'https://www.ebi.ac.uk/pdbe/api//mappings/uniprot/{code}?pretty=true').json()[code.lower()]\n",
    "print(data_2)\n",
    "print(type(data_2))\n",
    "\n",
    "keysList = list(data_2['UniProt'].keys())\n",
    "print(keysList)\n",
    "\n",
    "keysList = list(data_2['UniProt'].keys())\n",
    "print(keysList)\n",
    "\n",
    "\n",
    "sep=\",\"\n",
    "a = sep.join(list(data_2['UniProt'].keys()))\n",
    "print(a)"
   ]
  },
  {
   "cell_type": "code",
   "execution_count": null,
   "metadata": {},
   "outputs": [],
   "source": [
    "from Bio.PDB.PDBParser import PDBParser\n",
    "from Bio.PDB.Polypeptide import PPBuilder\n",
    "parser = PDBParser(PERMISSIVE=1)"
   ]
  },
  {
   "cell_type": "code",
   "execution_count": null,
   "metadata": {},
   "outputs": [],
   "source": [
    "structure_id = \"2r58\"\n",
    "filename = \"C:/Experiments/HQ-DTA/data/PDBBind_2020/PDBbind_v2020_refined/refined-set/2r58/2r58_protein.pdb\"\n",
    "structure = parser.get_structure(structure_id, filename)\n",
    "print(structure)"
   ]
  },
  {
   "cell_type": "code",
   "execution_count": null,
   "metadata": {},
   "outputs": [],
   "source": [
    "def get_sequence_from_pdbid(pdbid):\n",
    "    data = requests.get(\"https://data.rcsb.org/rest/v1/core/polymer_entity/\" + pdbid + \"/1\")\n",
    "    pdb_data = data.json()\n",
    "    polymer_entity = pdb_data[\"entity_poly\"]    \n",
    "    sequence = polymer_entity[\"pdbx_seq_one_letter_code\"]\n",
    "    return sequence"
   ]
  },
  {
   "cell_type": "code",
   "execution_count": null,
   "metadata": {},
   "outputs": [],
   "source": [
    "import requests\n",
    "seq = get_sequence_from_pdbid('1a1e')\n",
    "print(seq)\n"
   ]
  },
  {
   "cell_type": "code",
   "execution_count": null,
   "metadata": {},
   "outputs": [],
   "source": [
    "#Read sequence from pdb files\n",
    "#structure = p.get_structure(df_i.loc[i, 'PDB_code'], df_i.loc[:, 'protein_files'])\n",
    "from Bio.PDB.PDBParser import PDBParser\n",
    "from Bio.PDB.Polypeptide import PPBuilder\n",
    "\n",
    "code = \"1a1e\"\n",
    "filename = \"C:/Experiments/HQ-DTA/data/PDBBind_2020/PDBbind_v2020_refined/refined-set/1a1e/1a1e_protein.pdb\"        \n",
    "    \n",
    "err_prots_pdb_2 = []\n",
    "p   = PDBParser()\n",
    "ppb = PPBuilder()\n",
    "for i in range(1):#range(len(df_i)):\n",
    "    #try:\n",
    "        #structure = p.get_structure(df_i.loc[i, 'PDB_code'], df_i.loc[:, 'protein_files'])\n",
    "        structure = p.get_structure(code, filename)\n",
    "        print(structure[0])\n",
    "        pp = ppb.build_peptides(structure[0])\n",
    "        print(pp)\n",
    "        seq = pp[0].get_sequence()   \n",
    "        print(seq)\n",
    "        \n",
    "        #model = structure[0]\n",
    "        #chain = model['A']\n",
    "\n",
    "        #seq = pp.get_sequence().__str__()\n",
    "        #print(seq)\n",
    "        #df_i.loc[i, 'sequence_from_pdb']      = data[0]['sequence']    \n",
    "    #except: \n",
    "    #    err_prots_pdb_2.append(df_i.loc[i, 'PDB_code'])\n",
    "    #    pass \n",
    "\n",
    "print('errors ', err_prots_pdb_2)\n",
    "\n"
   ]
  },
  {
   "cell_type": "markdown",
   "metadata": {},
   "source": [
    " # READ sequence and uniprot id from files\n",
    " # Caution for pocket files "
   ]
  },
  {
   "cell_type": "code",
   "execution_count": 46,
   "metadata": {},
   "outputs": [],
   "source": [
    "#read sequence from protein.pdb\n",
    "from Bio.PDB.PDBParser import PDBParser\n",
    "from Bio.PDB.Polypeptide import PPBuilder\n",
    "from Bio import SeqIO"
   ]
  },
  {
   "cell_type": "code",
   "execution_count": 47,
   "metadata": {},
   "outputs": [],
   "source": [
    "def get_sequence(df):\n",
    "    err_prots_f=[]\n",
    "    p, ppb   = PDBParser(),  PPBuilder()\n",
    "    for i in range(len(df)):\n",
    "        code = df.loc[i, 'PDB_code']\n",
    "        filename = df.loc[i, 'protein_files']\n",
    "        try:\n",
    "            records = list(SeqIO.parse(filename, 'pdb-seqres'))\n",
    "            df.loc[i, 'sequence_file']  = str(records[0].seq)   #get the first sequence \n",
    "        except: \n",
    "            err_prots_f.append(df.loc[i, 'PDB_code'])\n",
    "            pass \n",
    "\n",
    "    print('errors from file ', len(err_prots_f), err_prots_f)"
   ]
  },
  {
   "cell_type": "code",
   "execution_count": null,
   "metadata": {},
   "outputs": [],
   "source": [
    "get_sequence(df_c)"
   ]
  },
  {
   "cell_type": "code",
   "execution_count": null,
   "metadata": {},
   "outputs": [],
   "source": [
    "df_c.shape"
   ]
  },
  {
   "cell_type": "code",
   "execution_count": null,
   "metadata": {},
   "outputs": [],
   "source": [
    "df_c.head()\n"
   ]
  },
  {
   "cell_type": "code",
   "execution_count": 52,
   "metadata": {},
   "outputs": [],
   "source": [
    "# read Uniport from  INDEX_name_file\n",
    "#etc. 1n4k  2002  P11881  INOSITOL 1,4,5-TRISPHOSPHATE RECEPTOR TYPE 1\n",
    "# Από την στήλη 3 και μετά είναι το όνομα του target\n",
    "# θα πάρω την αντιστοίχηση από το index_name_file αλλά υπάρχουν εγγραφές με ----\n",
    "# Χρησιμοποιώ το https://www.ebi.ac.uk/pdbe/api//mappings/\n",
    "\n",
    "\n",
    "def get_uniprot(filename):\n",
    "    contents = read_pdb_files(filename)\n",
    "    df = pd.DataFrame(contents)\n",
    "    print('max ', df.shape[1])\n",
    "    max_col = df.shape[1]\n",
    "    df.loc[:,max_col]=\"\"\n",
    "    df.loc[:, max_col] = df.loc[:, max_col].map(str) + ' ' + df.loc[:,3].map(str) + ' ' +  df.loc[:,4].map(str) + ' ' +  df.loc[:,5].map(str) + ' ' + df.loc[:,6].map(str) + ' ' + df.loc[:,7].map(str) + ' ' + df.loc[:,8].map(str) + ' ' + df.loc[:,9].map(str) + ' ' + df.loc[:,10].map(str) + ' ' + df.loc[:,11].map(str)\n",
    "    return df\n",
    "    \n",
    "    \n",
    "\n",
    "#cols = range(3, max_col)\n",
    "#print(cols)\n",
    "#\n",
    "# Δεν παίζει το for loop\n",
    "#for  c in cols:\n",
    "#    print(c)\n",
    "#    df_n.loc[:, max_col] = df_n.loc[:, max_col] + df_n.loc[:,c]\n"
   ]
  },
  {
   "cell_type": "code",
   "execution_count": null,
   "metadata": {},
   "outputs": [],
   "source": [
    "df_n = get_uniprot(index_name_file_i)"
   ]
  },
  {
   "cell_type": "code",
   "execution_count": null,
   "metadata": {},
   "outputs": [],
   "source": [
    "print(df_n.head)"
   ]
  },
  {
   "cell_type": "code",
   "execution_count": null,
   "metadata": {},
   "outputs": [],
   "source": [
    "df_n.shape"
   ]
  },
  {
   "cell_type": "code",
   "execution_count": 56,
   "metadata": {},
   "outputs": [],
   "source": [
    "#df_n = df_n.drop([1, 3, 4,5,6,7,8,9,10,11], axi121)#\n",
    "df_n = df_n[[0 , 2  ,12]] #12 gia to refined\n",
    "#df_n = df_n[[0 , 2  ,15]] #15 gia to general\n"
   ]
  },
  {
   "cell_type": "code",
   "execution_count": null,
   "metadata": {},
   "outputs": [],
   "source": [
    "df_n.head()"
   ]
  },
  {
   "cell_type": "code",
   "execution_count": 58,
   "metadata": {},
   "outputs": [],
   "source": [
    "df_n.columns =['PDB_code','Uniprot',  'protein_name']"
   ]
  },
  {
   "cell_type": "code",
   "execution_count": 59,
   "metadata": {},
   "outputs": [],
   "source": [
    "#prosoxi prepei na antikatstisw ti lexi None\n",
    "df_n[\"protein_name\"] = df_n[\"protein_name\"].apply(lambda x: x.replace(\"None\", \"\"))"
   ]
  },
  {
   "cell_type": "code",
   "execution_count": null,
   "metadata": {},
   "outputs": [],
   "source": [
    "print(df_c.shape)\n",
    "print(df_n.shape)\n"
   ]
  },
  {
   "cell_type": "code",
   "execution_count": 61,
   "metadata": {},
   "outputs": [],
   "source": [
    "# join two datasetes\n",
    "#df_i = df_i.set_index('PDB_code').join(df_n.set_index('PDB_code'))\n",
    "df_c = df_c.set_index('PDB_code').join(df_n.set_index('PDB_code'))\n"
   ]
  },
  {
   "cell_type": "code",
   "execution_count": null,
   "metadata": {},
   "outputs": [],
   "source": [
    "df_c.head()"
   ]
  },
  {
   "cell_type": "code",
   "execution_count": 63,
   "metadata": {},
   "outputs": [],
   "source": [
    "df_c.to_csv(\"C:/Experiments/HQ-DTA/data/CASF_2016_core_data_cas.csv\", sep ='\\t')"
   ]
  },
  {
   "cell_type": "markdown",
   "metadata": {},
   "source": [
    "#ayta oy bgazoyn mhnyma pane sta problematic array\n"
   ]
  },
  {
   "cell_type": "code",
   "execution_count": 74,
   "metadata": {},
   "outputs": [],
   "source": [
    "from rdkit import Chem\n",
    "from rdkit.Chem import AllChem\n",
    "from rdkit.Chem import Descriptors\n",
    "'''\n",
    "function to estimate molecule descriptors\n",
    "Α) από το Chem\n",
    "ALL\n",
    "OR τα  πιο πολλά Paper έχουν τα παρακάτω 6 \n",
    " 1.molecular weight, \n",
    " 2.logP (the octanol/water partition coefficient, i.e., notion of lipophilicity) lipophilicity \n",
    " 3.hydrogen bond donors,\n",
    " 5.hydrogen bond acceptors, \n",
    " 5.topological polar surface area,\n",
    " 6.number of rotatable bonds.\n",
    " -------------\n",
    " Descriptors\n",
    " https://www.rdkit.org/docs/GettingStartedInPython.html#list-of-available-descriptors\n",
    " https://www.rdkit.org/docs/source/rdkit.Chem.rdMolDescriptors.html\n",
    " \n",
    " Β) Μια άλλη κατηγορία είναι τα  \n",
    " Molecular pairing energies (MPE) (υπολογίζει την ενέργεια ανά ζευγάρι ατόμων)\n",
    " https://www.mdpi.com/2079-9292/10/23/2981#B44-electronics-10-02981\n",
    " \n",
    "'''\n",
    "\n",
    "def get_descriptors(smiles, all_desc=False,verbose=False):\n",
    "    moldata= []\n",
    "    problematic_smiles=[]\n",
    "    columnNames=[]\n",
    "    for i,elem in enumerate(smiles):\n",
    "        try:\n",
    "            #print('elem - ', i, ' ', elem)\n",
    "            mol = Chem.MolFromSmiles(elem)\n",
    "            if mol is None:\n",
    "                problematic_smiles.append(elem)\n",
    "            else:    \n",
    "                #mol = rdMolStandardize.Cleanup(mol)\n",
    "                #print('mol - ', i, ' ', mol)\n",
    "                moldata.append(mol)  \n",
    "        except:\n",
    "            problematic_smiles.append(elem)\n",
    "            pass\n",
    "        \n",
    "    baseData= np.arange(1,1)\n",
    "    i=0  \n",
    "    for mol in moldata:\n",
    "        if all_desc:\n",
    "            vals = chem.Descriptors.CalcMolDescriptors(mol)\n",
    "            row = np.array(list(vals.values()))\n",
    "        else:      \n",
    "            row = np.array([\n",
    "                        #Chem.MolToSmiles(mol), #canonical\n",
    "                        round(Descriptors.MolWt(mol),2),\n",
    "                        round(Descriptors.MolLogP(mol),2), #lipophilicity \n",
    "                        round(Descriptors.NumHDonors(mol),2),\n",
    "                        round(Descriptors.NumHAcceptors(mol),2),\n",
    "                        round(Descriptors.TPSA(mol),2),\n",
    "                        round(Descriptors.NumRotatableBonds(mol),2)])   \n",
    "\n",
    "        if(i==0):\n",
    "            baseData=np.vstack([row])\n",
    "            if all_desc: columnNames_first=list(vals)\n",
    "        else:\n",
    "            baseData=np.vstack([baseData, row])\n",
    "        i=i+1      \n",
    "    if all_desc:\n",
    "        columnNames=columnNames_first\n",
    "    else:\n",
    "        columnNames=[#\"smi_canonical\",\n",
    "                     \"MW\",\"LogP\",\"NumHDonors\",\"NumHAcceptors\",\"TPSA\",\"NumRotatableBonds\"]  \n",
    "    \n",
    "    #print('baseData', baseData)\n",
    "    #print('problematic_smiles', problematic_smiles)\n",
    "    problematic_smiles = pd.DataFrame(problematic_smiles)\n",
    "    descriptors = pd.DataFrame(data=baseData,columns=columnNames)\n",
    "    return  descriptors,problematic_smiles"
   ]
  },
  {
   "cell_type": "code",
   "execution_count": 75,
   "metadata": {},
   "outputs": [],
   "source": [
    "import pandas as pd\n",
    "from pathlib import Path\n",
    "import numpy as np\n",
    "\n",
    "    \n",
    "df_tmp = pd.read_csv('C:/Experiments/HQ-DTA/data/CASF_2016_core_data.csv', sep ='\\t' )\n",
    "df_descriptors, df_problematic_smiles = get_descriptors(df_tmp['smi_canonical'], all_desc=False)"
   ]
  },
  {
   "cell_type": "code",
   "execution_count": null,
   "metadata": {},
   "outputs": [],
   "source": [
    "print(df_descriptors.shape)\n",
    "#print(df_descriptors)\n",
    "\n",
    "print(df_problematic_smiles.shape)"
   ]
  },
  {
   "cell_type": "code",
   "execution_count": null,
   "metadata": {},
   "outputs": [],
   "source": [
    "df_c.reset_index(inplace=True, drop=True)\n",
    "df_c.head()"
   ]
  },
  {
   "cell_type": "code",
   "execution_count": null,
   "metadata": {},
   "outputs": [],
   "source": [
    "df_c_2 = df_c.join(df_descriptors )\n",
    "df_c_2.head()"
   ]
  },
  {
   "cell_type": "code",
   "execution_count": null,
   "metadata": {},
   "outputs": [],
   "source": []
  },
  {
   "cell_type": "code",
   "execution_count": null,
   "metadata": {},
   "outputs": [],
   "source": [
    "tmp = df_descriptors\n",
    "print(tmp.shape)\n",
    "tmp = tmp.drop_duplicates(subset=[\"smi_canonical\"])\n",
    "print(tmp.shape)\n",
    "#print(df_problematic_smiles)  "
   ]
  },
  {
   "cell_type": "code",
   "execution_count": null,
   "metadata": {},
   "outputs": [],
   "source": [
    "# Παρακάτω έψαχνα να βρω τις 6 εγγραφές που δεν υπάρχουν στο general"
   ]
  },
  {
   "cell_type": "code",
   "execution_count": null,
   "metadata": {},
   "outputs": [],
   "source": [
    "df_problematic_smiles"
   ]
  },
  {
   "cell_type": "code",
   "execution_count": null,
   "metadata": {},
   "outputs": [],
   "source": [
    "print(df_tmp.shape)\n",
    "df_descriptors.shape"
   ]
  },
  {
   "cell_type": "code",
   "execution_count": null,
   "metadata": {},
   "outputs": [],
   "source": [
    "common = pd.merge(df_tmp, tmp, on='smi_canonical', how='inner')\n",
    "\n",
    "#df_i.reset_index(inplace=True, drop=True)\n",
    "# join two datasetes\n",
    "#df_i_2 = df_i.join(df_descriptors)"
   ]
  },
  {
   "cell_type": "code",
   "execution_count": null,
   "metadata": {},
   "outputs": [],
   "source": [
    "common.shape"
   ]
  },
  {
   "cell_type": "code",
   "execution_count": 80,
   "metadata": {},
   "outputs": [],
   "source": [
    "df_c_2.to_csv(\"C:/Experiments/HQ-DTA/data/CASF_2016_core_data_with_descriptors.csv\", sep ='\\t')"
   ]
  },
  {
   "cell_type": "code",
   "execution_count": null,
   "metadata": {},
   "outputs": [],
   "source": [
    "df_problematic_smiles.to_csv(\"C:/Experiments/HQ-DTA/data/general_data_2020_get_descriptors_problemic.csv\", sep ='\\t')"
   ]
  },
  {
   "cell_type": "code",
   "execution_count": null,
   "metadata": {},
   "outputs": [],
   "source": [
    "#briskw ta koina\n",
    "df_tmp = df_tmp.drop_duplicates(subset=[\"smi_canonical\"])\n",
    "\n",
    "df_tmp.shape"
   ]
  },
  {
   "cell_type": "code",
   "execution_count": null,
   "metadata": {},
   "outputs": [],
   "source": [
    "common_2.shape"
   ]
  },
  {
   "cell_type": "code",
   "execution_count": null,
   "metadata": {},
   "outputs": [],
   "source": [
    "print(tmp.shape)\n",
    "print(df_tmp.shape)\n",
    "\n"
   ]
  },
  {
   "cell_type": "code",
   "execution_count": null,
   "metadata": {},
   "outputs": [],
   "source": [
    "tmp1['smi_canonical'] = tmp['smi_canonical']\n",
    "tmp2['smi_canonical'] = df_tmp['smi_canonical']\n",
    "tmp1.set_index('smi_canonical')\n",
    "tmp2.set_index('smi_canonical')\n",
    "\n"
   ]
  },
  {
   "cell_type": "code",
   "execution_count": null,
   "metadata": {},
   "outputs": [],
   "source": [
    "tmp1.head()"
   ]
  },
  {
   "cell_type": "code",
   "execution_count": null,
   "metadata": {},
   "outputs": [],
   "source": [
    "tmp2['match'] = np.where(tmp1['smi_canonical'] == tmp2['smi_canonical'], 'True', 'False')"
   ]
  },
  {
   "cell_type": "code",
   "execution_count": null,
   "metadata": {},
   "outputs": [],
   "source": [
    "# ***************KATANOMH******************\n",
    "import pandas as pd\n",
    "from pathlib import Path\n",
    "\n",
    "from matplotlib import pyplot\n",
    "# generate regression dataset\n",
    "#X, y = make_regression(n_samples=1000, n_features=20, noise=0.1, random_state=1)\n",
    "\n",
    "df = pd.read_csv('C:/Experiments/HQ-DTA/data/pdbbind2020_training.csv', sep ='\\t' )\n",
    "\n",
    "df.head()"
   ]
  },
  {
   "cell_type": "code",
   "execution_count": 2,
   "metadata": {},
   "outputs": [],
   "source": [
    "X= df.to_numpy() "
   ]
  },
  {
   "cell_type": "code",
   "execution_count": 4,
   "metadata": {},
   "outputs": [
    {
     "data": {
      "image/png": "[encoded data removed]",
      "text/plain": [
       "<Figure size 640x480 with 2 Axes>"
      ]
     },
     "metadata": {},
     "output_type": "display_data"
    },
    {
     "data": {
      "image/png": "[encoded data removed]",
      "text/plain": [
       "<Figure size 640x480 with 2 Axes>"
      ]
     },
     "metadata": {},
     "output_type": "display_data"
    },
    {
     "data": {
      "image/png": "[encoded data removed]",
      "text/plain": [
       "<Figure size 640x480 with 2 Axes>"
      ]
     },
     "metadata": {},
     "output_type": "display_data"
    },
    {
     "data": {
      "image/png": "[encoded data removed]",
      "text/plain": [
       "<Figure size 640x480 with 1 Axes>"
      ]
     },
     "metadata": {},
     "output_type": "display_data"
    }
   ],
   "source": [
    "#17 έως 22\n",
    "#MW\tLogP\tNumHDonors\tNumHAcceptors\tTPSA\tNumRotatableBonds\n",
    "\n",
    "# histograms of input variables\n",
    "pyplot.subplot(211)\n",
    "pyplot.hist(X[:, 17]) # \n",
    "\n",
    "#pyplot.subplot(212)\n",
    "#pyplot.hist(X[:, 23]) # rescale\n",
    "#pyplot.show()\n",
    "\n",
    "\n",
    "pyplot.subplot(212)\n",
    "pyplot.hist(X[:, 18])\n",
    "pyplot.show()\n",
    "\n",
    "pyplot.subplot(211)\n",
    "pyplot.hist(X[:, 19])\n",
    "pyplot.subplot(212)\n",
    "pyplot.hist(X[:, 20])\n",
    "pyplot.show()\n",
    "\n",
    "pyplot.subplot(211)\n",
    "pyplot.hist(X[:, 21])\n",
    "pyplot.subplot(212)\n",
    "pyplot.hist(X[:, 22])\n",
    "\n",
    "pyplot.show()\n",
    "# histogram of target variable  logKd/Ki\n",
    "pyplot.hist(X[:, 4]) \n",
    "pyplot.show()"
   ]
  },
  {
   "cell_type": "code",
   "execution_count": 5,
   "metadata": {},
   "outputs": [],
   "source": [
    "from sklearn.preprocessing import MinMaxScaler\n",
    "def get_scalers(data_path, phase, name):    \n",
    "    def get_scaler(df,col):\n",
    "        return MinMaxScaler().fit(df[[col]])\n",
    "\n",
    "    data_path = Path(data_path)\n",
    "    df = pd.read_csv(data_path / f\"{name}_{phase}.csv\", sep='\\t')\n",
    "    data_scalers = {col: get_scaler(df, col)\n",
    "                       for col in ['MW', 'LogP','NumHDonors','NumHAcceptors','TPSA','NumRotatableBonds', '-logKd/Ki']}\n",
    "    return data_scalers"
   ]
  },
  {
   "cell_type": "code",
   "execution_count": 16,
   "metadata": {},
   "outputs": [],
   "source": [
    "df['NumHAcceptors_s'] =  scalers['NumHAcceptors'].transform(df[['NumHAcceptors']])"
   ]
  },
  {
   "cell_type": "code",
   "execution_count": 6,
   "metadata": {},
   "outputs": [],
   "source": [
    "scalers=get_scalers('C:/Experiments/HQ-DTA/data/', 'training','pdbbind2020' )"
   ]
  },
  {
   "cell_type": "code",
   "execution_count": 63,
   "metadata": {},
   "outputs": [],
   "source": [
    "for c in scalers:\n",
    "     df[c]= scalers[c].transform(df[[c]])"
   ]
  },
  {
   "cell_type": "code",
   "execution_count": 11,
   "metadata": {},
   "outputs": [],
   "source": [
    "df_v = pd.read_csv('C:/Experiments/HQ-DTA/data/pdbbind2020_validation.csv', sep ='\\t' )"
   ]
  },
  {
   "cell_type": "code",
   "execution_count": 17,
   "metadata": {},
   "outputs": [],
   "source": [
    "df_v['NumHAcceptors_s'] =  scalers['NumHAcceptors'].transform(df_v[['NumHAcceptors']])"
   ]
  },
  {
   "cell_type": "code",
   "execution_count": null,
   "metadata": {},
   "outputs": [],
   "source": [
    "df[df[\"NumHAcceptors\"] == 29]"
   ]
  },
  {
   "cell_type": "code",
   "execution_count": null,
   "metadata": {},
   "outputs": [],
   "source": [
    "df_v[df_v[\"NumHAcceptors\"] == 29]"
   ]
  },
  {
   "cell_type": "code",
   "execution_count": null,
   "metadata": {},
   "outputs": [],
   "source": [
    "df_v.head() #310.34 - > 0.084906 "
   ]
  },
  {
   "cell_type": "code",
   "execution_count": null,
   "metadata": {},
   "outputs": [],
   "source": [
    "df.NumHAcceptors.unique()"
   ]
  },
  {
   "cell_type": "code",
   "execution_count": null,
   "metadata": {},
   "outputs": [],
   "source": [
    "df_v.NumHAcceptors.unique()"
   ]
  }
 ],
 "metadata": {
  "kernelspec": {
   "display_name": "Python 3 (ipykernel)",
   "language": "python",
   "name": "python3"
  },
  "language_info": {
   "codemirror_mode": {
    "name": "ipython",
    "version": 3
   },
   "file_extension": ".py",
   "mimetype": "text/x-python",
   "name": "python",
   "nbconvert_exporter": "python",
   "pygments_lexer": "ipython3",
   "version": "3.8.6"
  }
 },
 "nbformat": 4,
 "nbformat_minor": 4
}
